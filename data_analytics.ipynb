{
  "nbformat": 4,
  "nbformat_minor": 0,
  "metadata": {
    "colab": {
      "provenance": [],
      "authorship_tag": "ABX9TyP0wWdiB22TFqaqZuIG3DQs",
      "include_colab_link": true
    },
    "kernelspec": {
      "name": "python3",
      "display_name": "Python 3"
    },
    "language_info": {
      "name": "python"
    }
  },
  "cells": [
    {
      "cell_type": "markdown",
      "metadata": {
        "id": "view-in-github",
        "colab_type": "text"
      },
      "source": [
        "<a href=\"https://colab.research.google.com/github/Sumanth-bobby/driver-drowsiness-detection-system/blob/main/data_analytics.ipynb\" target=\"_parent\"><img src=\"https://colab.research.google.com/assets/colab-badge.svg\" alt=\"Open In Colab\"/></a>"
      ]
    },
    {
      "cell_type": "code",
      "execution_count": 1,
      "metadata": {
        "colab": {
          "base_uri": "https://localhost:8080/",
          "height": 35
        },
        "id": "OuM230w0yfwl",
        "outputId": "66f79c5d-c451-42dc-9560-ad7030ec0f1b"
      },
      "outputs": [
        {
          "output_type": "execute_result",
          "data": {
            "text/plain": [
              "'i have started the course'"
            ],
            "application/vnd.google.colaboratory.intrinsic+json": {
              "type": "string"
            }
          },
          "metadata": {},
          "execution_count": 1
        }
      ],
      "source": [
        "'i have started the course'"
      ]
    },
    {
      "cell_type": "code",
      "source": [
        "3*8"
      ],
      "metadata": {
        "colab": {
          "base_uri": "https://localhost:8080/"
        },
        "id": "aLkNvUSO3N5n",
        "outputId": "437c661e-6140-44f9-9b12-3394e2e9dab5"
      },
      "execution_count": null,
      "outputs": [
        {
          "output_type": "execute_result",
          "data": {
            "text/plain": [
              "24"
            ]
          },
          "metadata": {},
          "execution_count": 3
        }
      ]
    },
    {
      "cell_type": "code",
      "source": [
        "7+5"
      ],
      "metadata": {
        "colab": {
          "base_uri": "https://localhost:8080/"
        },
        "id": "bZrhOSzi3Y27",
        "outputId": "91c03022-d542-43ad-f925-7eb0cea999a0"
      },
      "execution_count": null,
      "outputs": [
        {
          "output_type": "execute_result",
          "data": {
            "text/plain": [
              "12"
            ]
          },
          "metadata": {},
          "execution_count": 4
        }
      ]
    },
    {
      "cell_type": "code",
      "source": [
        "'7'+'5'"
      ],
      "metadata": {
        "colab": {
          "base_uri": "https://localhost:8080/",
          "height": 36
        },
        "id": "LThxIMSk3bX6",
        "outputId": "a3bf03a1-2d7b-45be-b77c-cd077c87aba8"
      },
      "execution_count": null,
      "outputs": [
        {
          "output_type": "execute_result",
          "data": {
            "text/plain": [
              "'75'"
            ],
            "application/vnd.google.colaboratory.intrinsic+json": {
              "type": "string"
            }
          },
          "metadata": {},
          "execution_count": 5
        }
      ]
    },
    {
      "cell_type": "code",
      "source": [
        "3*8"
      ],
      "metadata": {
        "colab": {
          "base_uri": "https://localhost:8080/"
        },
        "id": "1-Ru9r9h3iUz",
        "outputId": "099ec094-c326-408d-c317-8029df18d7fa"
      },
      "execution_count": null,
      "outputs": [
        {
          "output_type": "execute_result",
          "data": {
            "text/plain": [
              "24"
            ]
          },
          "metadata": {},
          "execution_count": 6
        }
      ]
    },
    {
      "cell_type": "code",
      "source": [
        "'3'*8"
      ],
      "metadata": {
        "colab": {
          "base_uri": "https://localhost:8080/",
          "height": 36
        },
        "id": "U_r6z8Ye3kg4",
        "outputId": "d648cea9-67c6-4a39-99af-17aed8d63bf7"
      },
      "execution_count": null,
      "outputs": [
        {
          "output_type": "execute_result",
          "data": {
            "text/plain": [
              "'33333333'"
            ],
            "application/vnd.google.colaboratory.intrinsic+json": {
              "type": "string"
            }
          },
          "metadata": {},
          "execution_count": 7
        }
      ]
    },
    {
      "cell_type": "code",
      "source": [
        "225/5"
      ],
      "metadata": {
        "colab": {
          "base_uri": "https://localhost:8080/"
        },
        "id": "WNnJO-TE3oZf",
        "outputId": "ef39c2b8-502b-498d-8645-92593e21f3fd"
      },
      "execution_count": null,
      "outputs": [
        {
          "output_type": "execute_result",
          "data": {
            "text/plain": [
              "45.0"
            ]
          },
          "metadata": {},
          "execution_count": 8
        }
      ]
    },
    {
      "cell_type": "code",
      "source": [
        "225//5"
      ],
      "metadata": {
        "colab": {
          "base_uri": "https://localhost:8080/"
        },
        "id": "tXgkKW6n38N9",
        "outputId": "4d77f35a-607e-4f12-9999-db5dfc69a7b0"
      },
      "execution_count": null,
      "outputs": [
        {
          "output_type": "execute_result",
          "data": {
            "text/plain": [
              "45"
            ]
          },
          "metadata": {},
          "execution_count": 9
        }
      ]
    },
    {
      "cell_type": "code",
      "source": [
        "453/5"
      ],
      "metadata": {
        "colab": {
          "base_uri": "https://localhost:8080/"
        },
        "id": "bNOyql2X4Ahe",
        "outputId": "35fec953-41dd-4f19-dbc8-88ec2913c4c3"
      },
      "execution_count": null,
      "outputs": [
        {
          "output_type": "execute_result",
          "data": {
            "text/plain": [
              "90.6"
            ]
          },
          "metadata": {},
          "execution_count": 10
        }
      ]
    },
    {
      "cell_type": "code",
      "source": [
        "453//5"
      ],
      "metadata": {
        "colab": {
          "base_uri": "https://localhost:8080/"
        },
        "id": "7h4-9tm-4Hbs",
        "outputId": "c9c7df01-a981-42aa-e3f5-6c759372f784"
      },
      "execution_count": null,
      "outputs": [
        {
          "output_type": "execute_result",
          "data": {
            "text/plain": [
              "90"
            ]
          },
          "metadata": {},
          "execution_count": 11
        }
      ]
    },
    {
      "cell_type": "code",
      "source": [
        "a=100\n",
        "b=200\n",
        "c=500\n",
        "d=700"
      ],
      "metadata": {
        "id": "SFDcjKi_4K-W"
      },
      "execution_count": null,
      "outputs": []
    },
    {
      "cell_type": "code",
      "source": [
        "a+b+c+d/4"
      ],
      "metadata": {
        "colab": {
          "base_uri": "https://localhost:8080/"
        },
        "id": "dxk2P07g5DLa",
        "outputId": "62db2c17-0a64-4a7e-f16d-60676b2848bd"
      },
      "execution_count": null,
      "outputs": [
        {
          "output_type": "execute_result",
          "data": {
            "text/plain": [
              "975.0"
            ]
          },
          "metadata": {},
          "execution_count": 13
        }
      ]
    },
    {
      "cell_type": "code",
      "source": [
        "'ast' is 'pyt'"
      ],
      "metadata": {
        "colab": {
          "base_uri": "https://localhost:8080/"
        },
        "id": "Bt-arwTi5G1-",
        "outputId": "1f10b963-ba7f-4d39-ffe9-23a86858e95a"
      },
      "execution_count": null,
      "outputs": [
        {
          "output_type": "stream",
          "name": "stderr",
          "text": [
            "<>:1: SyntaxWarning: \"is\" with a literal. Did you mean \"==\"?\n",
            "<>:1: SyntaxWarning: \"is\" with a literal. Did you mean \"==\"?\n",
            "<ipython-input-14-cdc06efab154>:1: SyntaxWarning: \"is\" with a literal. Did you mean \"==\"?\n",
            "  'ast' is 'pyt'\n"
          ]
        },
        {
          "output_type": "execute_result",
          "data": {
            "text/plain": [
              "False"
            ]
          },
          "metadata": {},
          "execution_count": 14
        }
      ]
    },
    {
      "cell_type": "code",
      "source": [
        "'ast' is not 'pyt'"
      ],
      "metadata": {
        "colab": {
          "base_uri": "https://localhost:8080/"
        },
        "id": "nnBWX6SE8qzn",
        "outputId": "c4c46f3e-0457-45e7-eb73-04baf0a05faf"
      },
      "execution_count": null,
      "outputs": [
        {
          "output_type": "stream",
          "name": "stderr",
          "text": [
            "<>:1: SyntaxWarning: \"is not\" with a literal. Did you mean \"!=\"?\n",
            "<>:1: SyntaxWarning: \"is not\" with a literal. Did you mean \"!=\"?\n",
            "<ipython-input-15-b1f2cdb59638>:1: SyntaxWarning: \"is not\" with a literal. Did you mean \"!=\"?\n",
            "  'ast' is not 'pyt'\n"
          ]
        },
        {
          "output_type": "execute_result",
          "data": {
            "text/plain": [
              "True"
            ]
          },
          "metadata": {},
          "execution_count": 15
        }
      ]
    },
    {
      "cell_type": "code",
      "source": [
        "True or False"
      ],
      "metadata": {
        "colab": {
          "base_uri": "https://localhost:8080/"
        },
        "id": "xbe17ngm80a7",
        "outputId": "55cb0bc2-01ff-439b-c932-5c272d1ab2c3"
      },
      "execution_count": null,
      "outputs": [
        {
          "output_type": "execute_result",
          "data": {
            "text/plain": [
              "True"
            ]
          },
          "metadata": {},
          "execution_count": 16
        }
      ]
    },
    {
      "cell_type": "code",
      "source": [
        "a='hey my name is sumanth'"
      ],
      "metadata": {
        "id": "F4lGHQ0f89Mi"
      },
      "execution_count": null,
      "outputs": []
    },
    {
      "cell_type": "code",
      "source": [
        "a"
      ],
      "metadata": {
        "colab": {
          "base_uri": "https://localhost:8080/",
          "height": 36
        },
        "id": "VLdxRbwHsgQl",
        "outputId": "3b688048-e7e4-4f40-830c-b4d6ac16577a"
      },
      "execution_count": null,
      "outputs": [
        {
          "output_type": "execute_result",
          "data": {
            "text/plain": [
              "'hey my name is sumanth'"
            ],
            "application/vnd.google.colaboratory.intrinsic+json": {
              "type": "string"
            }
          },
          "metadata": {},
          "execution_count": 18
        }
      ]
    },
    {
      "cell_type": "code",
      "source": [
        "len(a)"
      ],
      "metadata": {
        "colab": {
          "base_uri": "https://localhost:8080/"
        },
        "id": "EHIU8UePsj-r",
        "outputId": "8c94641a-45b8-4439-e7e9-fcfef2936c9c"
      },
      "execution_count": null,
      "outputs": [
        {
          "output_type": "execute_result",
          "data": {
            "text/plain": [
              "22"
            ]
          },
          "metadata": {},
          "execution_count": 19
        }
      ]
    },
    {
      "cell_type": "code",
      "source": [
        "a[0:22]"
      ],
      "metadata": {
        "colab": {
          "base_uri": "https://localhost:8080/",
          "height": 36
        },
        "id": "pfN5mcDQsmbU",
        "outputId": "6bac3ebb-5b98-4aed-c613-c1417f13dd8e"
      },
      "execution_count": null,
      "outputs": [
        {
          "output_type": "execute_result",
          "data": {
            "text/plain": [
              "'hey my name is sumanth'"
            ],
            "application/vnd.google.colaboratory.intrinsic+json": {
              "type": "string"
            }
          },
          "metadata": {},
          "execution_count": 20
        }
      ]
    },
    {
      "cell_type": "code",
      "source": [
        "a.capitalize()"
      ],
      "metadata": {
        "colab": {
          "base_uri": "https://localhost:8080/",
          "height": 36
        },
        "id": "HhyPpgwWyap2",
        "outputId": "14e157f3-ba6b-472b-f85e-0d2ee06a0927"
      },
      "execution_count": null,
      "outputs": [
        {
          "output_type": "execute_result",
          "data": {
            "text/plain": [
              "'Hey my name is sumanth'"
            ],
            "application/vnd.google.colaboratory.intrinsic+json": {
              "type": "string"
            }
          },
          "metadata": {},
          "execution_count": 21
        }
      ]
    },
    {
      "cell_type": "code",
      "source": [
        "a.upper()"
      ],
      "metadata": {
        "colab": {
          "base_uri": "https://localhost:8080/",
          "height": 36
        },
        "id": "T8Rl9Hhe34BS",
        "outputId": "ba9cbb31-e1e3-41c9-bcb9-eaf93d23c3e6"
      },
      "execution_count": null,
      "outputs": [
        {
          "output_type": "execute_result",
          "data": {
            "text/plain": [
              "'HEY MY NAME IS SUMANTH'"
            ],
            "application/vnd.google.colaboratory.intrinsic+json": {
              "type": "string"
            }
          },
          "metadata": {},
          "execution_count": 22
        }
      ]
    },
    {
      "cell_type": "code",
      "source": [
        "a.lower()"
      ],
      "metadata": {
        "colab": {
          "base_uri": "https://localhost:8080/",
          "height": 36
        },
        "id": "0F-RvvhC3-Cf",
        "outputId": "861f9af1-0304-4751-f396-d8052d56092e"
      },
      "execution_count": null,
      "outputs": [
        {
          "output_type": "execute_result",
          "data": {
            "text/plain": [
              "'hey my name is sumanth'"
            ],
            "application/vnd.google.colaboratory.intrinsic+json": {
              "type": "string"
            }
          },
          "metadata": {},
          "execution_count": 23
        }
      ]
    },
    {
      "cell_type": "code",
      "source": [
        "a"
      ],
      "metadata": {
        "colab": {
          "base_uri": "https://localhost:8080/",
          "height": 36
        },
        "id": "1vg-cX7P4A65",
        "outputId": "b76a2a0e-bb0f-4c3f-8318-a2c3ac60493c"
      },
      "execution_count": null,
      "outputs": [
        {
          "output_type": "execute_result",
          "data": {
            "text/plain": [
              "'hey my name is sumanth'"
            ],
            "application/vnd.google.colaboratory.intrinsic+json": {
              "type": "string"
            }
          },
          "metadata": {},
          "execution_count": 24
        }
      ]
    },
    {
      "cell_type": "code",
      "source": [
        "a.center(15,'*')"
      ],
      "metadata": {
        "colab": {
          "base_uri": "https://localhost:8080/",
          "height": 36
        },
        "id": "gCghFqiy4ZIM",
        "outputId": "c8ae5eba-a342-4335-ddae-d25d9730a2fe"
      },
      "execution_count": null,
      "outputs": [
        {
          "output_type": "execute_result",
          "data": {
            "text/plain": [
              "'hey my name is sumanth'"
            ],
            "application/vnd.google.colaboratory.intrinsic+json": {
              "type": "string"
            }
          },
          "metadata": {},
          "execution_count": 25
        }
      ]
    },
    {
      "cell_type": "code",
      "source": [
        "a.endswith('h')"
      ],
      "metadata": {
        "colab": {
          "base_uri": "https://localhost:8080/"
        },
        "id": "IG1HsRTr-GPI",
        "outputId": "42f5b489-b855-4424-c6f9-3a19afa40083"
      },
      "execution_count": null,
      "outputs": [
        {
          "output_type": "execute_result",
          "data": {
            "text/plain": [
              "True"
            ]
          },
          "metadata": {},
          "execution_count": 26
        }
      ]
    },
    {
      "cell_type": "code",
      "source": [
        "a.count('sumanth')"
      ],
      "metadata": {
        "colab": {
          "base_uri": "https://localhost:8080/"
        },
        "id": "qHXtEn8g-3yH",
        "outputId": "f485b459-0743-47e3-895e-92aa93eb65a3"
      },
      "execution_count": null,
      "outputs": [
        {
          "output_type": "execute_result",
          "data": {
            "text/plain": [
              "1"
            ]
          },
          "metadata": {},
          "execution_count": 27
        }
      ]
    },
    {
      "cell_type": "code",
      "source": [
        "a.count('a')"
      ],
      "metadata": {
        "colab": {
          "base_uri": "https://localhost:8080/"
        },
        "id": "2kw1gGkf_brS",
        "outputId": "5e68fa4c-9047-4fde-e1d2-3219f7ffd5bb"
      },
      "execution_count": null,
      "outputs": [
        {
          "output_type": "execute_result",
          "data": {
            "text/plain": [
              "2"
            ]
          },
          "metadata": {},
          "execution_count": 28
        }
      ]
    },
    {
      "cell_type": "code",
      "source": [
        "a.center(20,'*')"
      ],
      "metadata": {
        "colab": {
          "base_uri": "https://localhost:8080/",
          "height": 36
        },
        "id": "4YOqm8sW_fb0",
        "outputId": "599f2851-6bda-4434-9c7a-e809f6fa4f30"
      },
      "execution_count": null,
      "outputs": [
        {
          "output_type": "execute_result",
          "data": {
            "text/plain": [
              "'hey my name is sumanth'"
            ],
            "application/vnd.google.colaboratory.intrinsic+json": {
              "type": "string"
            }
          },
          "metadata": {},
          "execution_count": 29
        }
      ]
    },
    {
      "cell_type": "code",
      "source": [
        "dead = int(input('enter the number'))\n",
        "if dead >= 0:\n",
        "  inj = int(input('enter the val'))\n",
        "  if inj >= 0 :\n",
        "    safe = int(input('enter the safe'))\n",
        "    if safe >= 0:\n",
        "      print('tsunami report of japan')\n",
        "      print('the no of people')\n",
        "      print('no of deads:', dead)\n",
        "      print('injured:',inj)\n",
        "      print('please help the people who are suffering')\n",
        "    else:\n",
        "      print('invalid')\n",
        "  else:\n",
        "    print('invalid')\n",
        "else:\n",
        "  print('invalid')"
      ],
      "metadata": {
        "id": "qqoXfwE1A91R",
        "colab": {
          "base_uri": "https://localhost:8080/"
        },
        "outputId": "cdeaaff9-ba41-462f-b713-dcc66c35c1b8"
      },
      "execution_count": null,
      "outputs": [
        {
          "output_type": "stream",
          "name": "stdout",
          "text": [
            "enter the number3000\n",
            "enter the val2000\n",
            "enter the safe1000\n",
            "tsunami report of japan\n",
            "the no of people\n",
            "no of deads: 3000\n",
            "injured: 2000\n",
            "please help the people who are suffering\n"
          ]
        }
      ]
    },
    {
      "cell_type": "code",
      "source": [
        "dead = int(input('enter the number'))\n",
        "if dead >= 0:\n",
        "  inj = int(input('enter the val'))\n",
        "  if inj >= 0 :\n",
        "    safe = int(input('enter the safe'))\n",
        "    if safe >= 0:\n",
        "      print('tsunami report of japan')\n",
        "      print('the no of people')\n",
        "      print('no of deads:', dead)\n",
        "      print('injured:',inj)\n",
        "      print('please help the people who are suffering')\n",
        "    else:\n",
        "      print('invalid')\n",
        "  else:\n",
        "    print('invalid')\n",
        "else:\n",
        "  print('invalid')"
      ],
      "metadata": {
        "colab": {
          "base_uri": "https://localhost:8080/"
        },
        "id": "_1wDQQ5jlXD7",
        "outputId": "50c10830-fdd9-43ed-a406-9402a5daad75"
      },
      "execution_count": null,
      "outputs": [
        {
          "output_type": "stream",
          "name": "stdout",
          "text": [
            "enter the number3000\n",
            "enter the val2000\n",
            "enter the safe1000\n",
            "tsunami report of japan\n",
            "the no of people\n",
            "no of deads: 3000\n",
            "injured: 2000\n",
            "please help the people who are suffering\n"
          ]
        }
      ]
    },
    {
      "cell_type": "code",
      "source": [
        "dead = int(input('enter the number'))\n",
        "if dead >= 0:\n",
        "  inj = int(input('enter the val'))\n",
        "  if inj >= 0 :\n",
        "    safe = int(input('enter the safe'))\n",
        "    if safe >= 0:\n",
        "      print('tsunami report of japan')\n",
        "      print('the no of people')\n",
        "      print('no of deads:', dead)\n",
        "      print('injured:',inj)\n",
        "      print('please help the people who are suffering')\n",
        "    else:\n",
        "      print('invalid')\n",
        "  else:\n",
        "    print('invalid')\n",
        "else:\n",
        "  print('invalid')"
      ],
      "metadata": {
        "colab": {
          "base_uri": "https://localhost:8080/"
        },
        "outputId": "cdeaaff9-ba41-462f-b713-dcc66c35c1b8",
        "id": "DbOJAOoInK5f"
      },
      "execution_count": null,
      "outputs": [
        {
          "output_type": "stream",
          "name": "stdout",
          "text": [
            "enter the number3000\n",
            "enter the val2000\n",
            "enter the safe1000\n",
            "tsunami report of japan\n",
            "the no of people\n",
            "no of deads: 3000\n",
            "injured: 2000\n",
            "please help the people who are suffering\n"
          ]
        }
      ]
    },
    {
      "cell_type": "code",
      "source": [],
      "metadata": {
        "colab": {
          "base_uri": "https://localhost:8080/"
        },
        "outputId": "cdeaaff9-ba41-462f-b713-dcc66c35c1b8",
        "id": "aNz9vlqgnH7G"
      },
      "execution_count": null,
      "outputs": [
        {
          "output_type": "stream",
          "name": "stdout",
          "text": [
            "enter the number3000\n",
            "enter the val2000\n",
            "enter the safe1000\n",
            "tsunami report of japan\n",
            "the no of people\n",
            "no of deads: 3000\n",
            "injured: 2000\n",
            "please help the people who are suffering\n"
          ]
        }
      ]
    },
    {
      "cell_type": "code",
      "source": [
        "str = 'im sumanth'\n",
        "for i in str[len(str)-1::-1]:\n",
        "  print(i)\n"
      ],
      "metadata": {
        "colab": {
          "base_uri": "https://localhost:8080/"
        },
        "id": "Z9QwuUC8rye0",
        "outputId": "b05187a3-5631-4f29-923a-39e819f6e0b8"
      },
      "execution_count": null,
      "outputs": [
        {
          "output_type": "stream",
          "name": "stdout",
          "text": [
            "h\n",
            "t\n",
            "n\n",
            "a\n",
            "m\n",
            "u\n",
            "s\n",
            " \n",
            "m\n",
            "i\n",
            "i\n"
          ]
        }
      ]
    },
    {
      "cell_type": "code",
      "source": [
        "str.center(20,'*')"
      ],
      "metadata": {
        "id": "9JDHOmnKrzFM",
        "colab": {
          "base_uri": "https://localhost:8080/",
          "height": 36
        },
        "outputId": "dd04552b-ddf3-43b7-857b-4c7053c86e25"
      },
      "execution_count": null,
      "outputs": [
        {
          "output_type": "execute_result",
          "data": {
            "text/plain": [
              "'*****im sumanth*****'"
            ],
            "application/vnd.google.colaboratory.intrinsic+json": {
              "type": "string"
            }
          },
          "metadata": {},
          "execution_count": 11
        }
      ]
    },
    {
      "cell_type": "code",
      "source": [
        "'sumanth' in str"
      ],
      "metadata": {
        "colab": {
          "base_uri": "https://localhost:8080/"
        },
        "id": "LO8I3ug41sru",
        "outputId": "2600e1c8-bff3-4409-8837-d0a34acff2a9"
      },
      "execution_count": null,
      "outputs": [
        {
          "output_type": "execute_result",
          "data": {
            "text/plain": [
              "True"
            ]
          },
          "metadata": {},
          "execution_count": 12
        }
      ]
    },
    {
      "cell_type": "code",
      "source": [
        "str.replace('sumanth','bobby')"
      ],
      "metadata": {
        "colab": {
          "base_uri": "https://localhost:8080/",
          "height": 36
        },
        "id": "-r4pzBJw4bSs",
        "outputId": "2da8de8b-3b6f-45db-e268-88a7bc325a4d"
      },
      "execution_count": null,
      "outputs": [
        {
          "output_type": "execute_result",
          "data": {
            "text/plain": [
              "'im bobby'"
            ],
            "application/vnd.google.colaboratory.intrinsic+json": {
              "type": "string"
            }
          },
          "metadata": {},
          "execution_count": 18
        }
      ]
    },
    {
      "cell_type": "code",
      "source": [
        "list = ['sumanth','valli','vishnu','vyshu']"
      ],
      "metadata": {
        "id": "hUf1AsVz4hN-"
      },
      "execution_count": null,
      "outputs": []
    },
    {
      "cell_type": "code",
      "source": [
        "list[1]"
      ],
      "metadata": {
        "colab": {
          "base_uri": "https://localhost:8080/",
          "height": 36
        },
        "id": "Vne8yYNS4jMD",
        "outputId": "790205cd-1867-4262-d382-f688cd77b99e"
      },
      "execution_count": null,
      "outputs": [
        {
          "output_type": "execute_result",
          "data": {
            "text/plain": [
              "'valli'"
            ],
            "application/vnd.google.colaboratory.intrinsic+json": {
              "type": "string"
            }
          },
          "metadata": {},
          "execution_count": 29
        }
      ]
    },
    {
      "cell_type": "code",
      "source": [
        "list[1] = 'wife'"
      ],
      "metadata": {
        "id": "LSccyzVm6PaA"
      },
      "execution_count": null,
      "outputs": []
    },
    {
      "cell_type": "code",
      "source": [
        "list"
      ],
      "metadata": {
        "colab": {
          "base_uri": "https://localhost:8080/"
        },
        "id": "TId73q9Y6Y2_",
        "outputId": "0b5b9b45-c09e-4173-ede3-172fd86a5212"
      },
      "execution_count": null,
      "outputs": [
        {
          "output_type": "execute_result",
          "data": {
            "text/plain": [
              "['sumanth', 'wife', 'vishnu', 'vyshu']"
            ]
          },
          "metadata": {},
          "execution_count": 31
        }
      ]
    },
    {
      "cell_type": "code",
      "source": [
        "new = ['bobby','bhagya','sankar','hemu']"
      ],
      "metadata": {
        "id": "nF12AP8R6Zzg"
      },
      "execution_count": null,
      "outputs": []
    },
    {
      "cell_type": "code",
      "source": [
        "list.extend(new)"
      ],
      "metadata": {
        "id": "e1FB27Lq6tee"
      },
      "execution_count": null,
      "outputs": []
    },
    {
      "cell_type": "code",
      "source": [
        "list"
      ],
      "metadata": {
        "colab": {
          "base_uri": "https://localhost:8080/"
        },
        "id": "Rzr8x8fF6wtS",
        "outputId": "f2602fd9-41ff-44b8-ba9d-1e74eec1804f"
      },
      "execution_count": null,
      "outputs": [
        {
          "output_type": "execute_result",
          "data": {
            "text/plain": [
              "['sumanth', 'wife', 'vishnu', 'vyshu', 'bobby', 'bhagya', 'sankar', 'hemu']"
            ]
          },
          "metadata": {},
          "execution_count": 34
        }
      ]
    },
    {
      "cell_type": "code",
      "source": [
        "new"
      ],
      "metadata": {
        "colab": {
          "base_uri": "https://localhost:8080/"
        },
        "id": "P_z7caFk6x1k",
        "outputId": "8d2bba23-4094-4574-cfc0-c9eb7c90b001"
      },
      "execution_count": null,
      "outputs": [
        {
          "output_type": "execute_result",
          "data": {
            "text/plain": [
              "['bobby', 'bhagya', 'sankar', 'hemu']"
            ]
          },
          "metadata": {},
          "execution_count": 35
        }
      ]
    },
    {
      "cell_type": "code",
      "source": [
        "dicto = {'name':'bobby','age':22,'location':'paamur'}"
      ],
      "metadata": {
        "id": "k1St1rjl7F6W"
      },
      "execution_count": null,
      "outputs": []
    },
    {
      "cell_type": "code",
      "source": [
        "dicto.popitem()"
      ],
      "metadata": {
        "colab": {
          "base_uri": "https://localhost:8080/"
        },
        "id": "t57uwEGa2X7P",
        "outputId": "f0222aa0-fcf8-4fbf-d60f-bd26bb91025f"
      },
      "execution_count": null,
      "outputs": [
        {
          "output_type": "execute_result",
          "data": {
            "text/plain": [
              "('location', 'paamur')"
            ]
          },
          "metadata": {},
          "execution_count": 4
        }
      ]
    },
    {
      "cell_type": "code",
      "source": [
        "dicto"
      ],
      "metadata": {
        "colab": {
          "base_uri": "https://localhost:8080/"
        },
        "id": "g6gZ-DUa2dcu",
        "outputId": "3902968c-d7ac-473e-b3e6-d482f93b1711"
      },
      "execution_count": null,
      "outputs": [
        {
          "output_type": "execute_result",
          "data": {
            "text/plain": [
              "{'name': 'bobby', 'age': 22}"
            ]
          },
          "metadata": {},
          "execution_count": 5
        }
      ]
    },
    {
      "cell_type": "code",
      "source": [
        "import random\n",
        "num = random.randint(0,10)\n",
        "num"
      ],
      "metadata": {
        "id": "YK6WrpD-2qJz",
        "colab": {
          "base_uri": "https://localhost:8080/"
        },
        "outputId": "ccd59990-1cf7-4518-9cbd-9dbb7e3c9398"
      },
      "execution_count": null,
      "outputs": [
        {
          "output_type": "execute_result",
          "data": {
            "text/plain": [
              "7"
            ]
          },
          "metadata": {},
          "execution_count": 5
        }
      ]
    },
    {
      "cell_type": "code",
      "source": [
        " num"
      ],
      "metadata": {
        "colab": {
          "base_uri": "https://localhost:8080/"
        },
        "id": "pTp1JSru_R7h",
        "outputId": "be4b674c-8c3e-4a68-da3b-e12d5a76566e"
      },
      "execution_count": null,
      "outputs": [
        {
          "output_type": "execute_result",
          "data": {
            "text/plain": [
              "3"
            ]
          },
          "metadata": {},
          "execution_count": 3
        }
      ]
    },
    {
      "cell_type": "code",
      "source": [
        "seti = {1,2,3,4,5,2,2,1,3,4,5,4,2}"
      ],
      "metadata": {
        "id": "PELchG6i_nmI"
      },
      "execution_count": null,
      "outputs": []
    },
    {
      "cell_type": "code",
      "source": [
        "seti"
      ],
      "metadata": {
        "colab": {
          "base_uri": "https://localhost:8080/"
        },
        "id": "ZhIsamtUBCxg",
        "outputId": "36656f42-8631-4fb5-8bc4-97b644c12a20"
      },
      "execution_count": null,
      "outputs": [
        {
          "output_type": "execute_result",
          "data": {
            "text/plain": [
              "{1, 2, 3, 4, 5}"
            ]
          },
          "metadata": {},
          "execution_count": 28
        }
      ]
    },
    {
      "cell_type": "code",
      "source": [
        "2 in seti"
      ],
      "metadata": {
        "colab": {
          "base_uri": "https://localhost:8080/"
        },
        "id": "q7stUwfyBD-B",
        "outputId": "4fe28ac9-7a4f-4bc5-8a26-39df97e838a6"
      },
      "execution_count": null,
      "outputs": [
        {
          "output_type": "execute_result",
          "data": {
            "text/plain": [
              "True"
            ]
          },
          "metadata": {},
          "execution_count": 29
        }
      ]
    },
    {
      "cell_type": "code",
      "source": [
        "seti.pop()"
      ],
      "metadata": {
        "colab": {
          "base_uri": "https://localhost:8080/"
        },
        "id": "OLoGXfRnB7vm",
        "outputId": "ef3adc09-6e78-4861-9423-f6bb884d999b"
      },
      "execution_count": null,
      "outputs": [
        {
          "output_type": "execute_result",
          "data": {
            "text/plain": [
              "1"
            ]
          },
          "metadata": {},
          "execution_count": 30
        }
      ]
    },
    {
      "cell_type": "code",
      "source": [
        "seti"
      ],
      "metadata": {
        "colab": {
          "base_uri": "https://localhost:8080/"
        },
        "id": "JI2grUkVB_N9",
        "outputId": "cf277b5d-0b92-40ff-ef99-25a40c3861de"
      },
      "execution_count": null,
      "outputs": [
        {
          "output_type": "execute_result",
          "data": {
            "text/plain": [
              "{2, 3, 4, 5}"
            ]
          },
          "metadata": {},
          "execution_count": 31
        }
      ]
    },
    {
      "cell_type": "code",
      "source": [
        "set2 = {1}"
      ],
      "metadata": {
        "id": "kVkp2FasCBCu"
      },
      "execution_count": null,
      "outputs": []
    },
    {
      "cell_type": "code",
      "source": [
        "seti.update(set2)"
      ],
      "metadata": {
        "id": "v7pn4rhZCZY3"
      },
      "execution_count": null,
      "outputs": []
    },
    {
      "cell_type": "code",
      "source": [
        "seti"
      ],
      "metadata": {
        "colab": {
          "base_uri": "https://localhost:8080/"
        },
        "id": "1hRtLImCCp4K",
        "outputId": "280638f8-bee6-4c70-8b26-3a6dd8813a84"
      },
      "execution_count": null,
      "outputs": [
        {
          "output_type": "execute_result",
          "data": {
            "text/plain": [
              "{1, 2, 3, 4, 5}"
            ]
          },
          "metadata": {},
          "execution_count": 36
        }
      ]
    },
    {
      "cell_type": "code",
      "source": [
        "seti.discard(2)"
      ],
      "metadata": {
        "id": "R4Bd3neeC1Aw"
      },
      "execution_count": null,
      "outputs": []
    },
    {
      "cell_type": "code",
      "source": [
        "seti"
      ],
      "metadata": {
        "colab": {
          "base_uri": "https://localhost:8080/"
        },
        "id": "14rplWPREsu3",
        "outputId": "8e269e84-c73a-4691-e503-9e08646679f1"
      },
      "execution_count": null,
      "outputs": [
        {
          "output_type": "execute_result",
          "data": {
            "text/plain": [
              "{1, 3, 4, 5}"
            ]
          },
          "metadata": {},
          "execution_count": 38
        }
      ]
    },
    {
      "cell_type": "code",
      "source": [
        "seti.remove(3)"
      ],
      "metadata": {
        "id": "_cITzONvEttn"
      },
      "execution_count": null,
      "outputs": []
    },
    {
      "cell_type": "code",
      "source": [
        "seti.add(1)"
      ],
      "metadata": {
        "id": "T4LvLGMxEz6N"
      },
      "execution_count": null,
      "outputs": []
    },
    {
      "cell_type": "code",
      "source": [
        "seti.add(3)"
      ],
      "metadata": {
        "id": "nZprSlUEE3yJ"
      },
      "execution_count": null,
      "outputs": []
    },
    {
      "cell_type": "code",
      "source": [
        "seti"
      ],
      "metadata": {
        "id": "-oZz4yeVE5zg",
        "outputId": "b31d3449-4b7d-4546-c6f8-efcae5d3beca",
        "colab": {
          "base_uri": "https://localhost:8080/"
        }
      },
      "execution_count": null,
      "outputs": [
        {
          "output_type": "execute_result",
          "data": {
            "text/plain": [
              "{1, 3, 4, 5}"
            ]
          },
          "metadata": {},
          "execution_count": 42
        }
      ]
    },
    {
      "cell_type": "code",
      "source": [
        "seti.add(2)"
      ],
      "metadata": {
        "id": "7TlhSPz3E6sp"
      },
      "execution_count": null,
      "outputs": []
    },
    {
      "cell_type": "code",
      "source": [
        "arr = []\n",
        "for i in range(7):\n",
        "  arr.append(int(input()))"
      ],
      "metadata": {
        "id": "YsR06sTsE-DF",
        "colab": {
          "base_uri": "https://localhost:8080/"
        },
        "outputId": "07410382-efbd-4bcc-a218-544670c2cd5c"
      },
      "execution_count": null,
      "outputs": [
        {
          "name": "stdout",
          "output_type": "stream",
          "text": [
            "5\n",
            "4\n",
            "7\n",
            "8\n",
            "7\n",
            "7\n",
            "7\n"
          ]
        }
      ]
    },
    {
      "cell_type": "code",
      "source": [
        "arr\n"
      ],
      "metadata": {
        "colab": {
          "base_uri": "https://localhost:8080/"
        },
        "id": "wvg5gEfk3sM9",
        "outputId": "51407b34-a47f-460e-cb4a-1c86eb279378"
      },
      "execution_count": null,
      "outputs": [
        {
          "output_type": "execute_result",
          "data": {
            "text/plain": [
              "[5, 4, 7, 8, 7, 7, 7]"
            ]
          },
          "metadata": {},
          "execution_count": 11
        }
      ]
    },
    {
      "cell_type": "code",
      "source": [
        "var = 2000\n",
        "if var > 1000:\n",
        "  if var < 5000:\n",
        "    print('the expected')\n",
        "  print('less than 5000')\n",
        "else:\n",
        "  print('its not considered')"
      ],
      "metadata": {
        "id": "LlcVAMXA4EMn",
        "colab": {
          "base_uri": "https://localhost:8080/"
        },
        "outputId": "362b7362-0609-461a-b625-86f326a2cd88"
      },
      "execution_count": null,
      "outputs": [
        {
          "output_type": "stream",
          "name": "stdout",
          "text": [
            "the expected\n",
            "less than 5000\n"
          ]
        }
      ]
    },
    {
      "cell_type": "code",
      "source": [
        "a = ['apples','bananas','mangoes']\n",
        "b = [3,2,1]\n",
        "c = {}\n",
        "for i,j in zip(a,b):\n",
        "  c[i] = j"
      ],
      "metadata": {
        "id": "b-DZ1bM75vZH"
      },
      "execution_count": null,
      "outputs": []
    },
    {
      "cell_type": "code",
      "source": [
        "c"
      ],
      "metadata": {
        "id": "I0AEPLqC4sDB",
        "colab": {
          "base_uri": "https://localhost:8080/"
        },
        "outputId": "06953561-91f2-460e-83ee-763eb614d568"
      },
      "execution_count": null,
      "outputs": [
        {
          "output_type": "execute_result",
          "data": {
            "text/plain": [
              "{'apples': 3, 'bananas': 2, 'mangoes': 1}"
            ]
          },
          "metadata": {},
          "execution_count": 15
        }
      ]
    },
    {
      "cell_type": "markdown",
      "source": [
        "The Activity day......\n"
      ],
      "metadata": {
        "id": "0SXR_woTmjYw"
      }
    },
    {
      "cell_type": "code",
      "source": [
        "a = 'I will put attention from now onwards'\n",
        "for i in range(5):\n",
        "  print(a)"
      ],
      "metadata": {
        "colab": {
          "base_uri": "https://localhost:8080/"
        },
        "id": "0A73ShpXm77e",
        "outputId": "9a69126a-385e-495b-cbb0-6c7f36bbde73"
      },
      "execution_count": 7,
      "outputs": [
        {
          "output_type": "stream",
          "name": "stdout",
          "text": [
            "I will put attention from now onwards\n",
            "I will put attention from now onwards\n",
            "I will put attention from now onwards\n",
            "I will put attention from now onwards\n",
            "I will put attention from now onwards\n"
          ]
        }
      ]
    },
    {
      "cell_type": "code",
      "source": [
        "a = 'I will put attention from now onwards\\n'*9"
      ],
      "metadata": {
        "id": "vJ-PJRTCyF1t"
      },
      "execution_count": null,
      "outputs": []
    },
    {
      "cell_type": "code",
      "source": [
        "print(a)"
      ],
      "metadata": {
        "colab": {
          "base_uri": "https://localhost:8080/"
        },
        "id": "RTLTFfhJnSmL",
        "outputId": "15a89091-6ae5-4cbf-a048-c78732372d95"
      },
      "execution_count": null,
      "outputs": [
        {
          "output_type": "stream",
          "name": "stdout",
          "text": [
            "I will put attention from now onwards\n",
            "I will put attention from now onwards\n",
            "I will put attention from now onwards\n",
            "I will put attention from now onwards\n",
            "I will put attention from now onwards\n",
            "I will put attention from now onwards\n",
            "I will put attention from now onwards\n",
            "I will put attention from now onwards\n",
            "I will put attention from now onwards\n",
            "\n"
          ]
        }
      ]
    },
    {
      "cell_type": "code",
      "source": [
        "a = int(input())\n",
        "b = 1\n",
        "for i in range(1,a+1):\n",
        "  if a ==0 or a==1:\n",
        "    print('the factorial is',1)\n",
        "  else:\n",
        "    b = b*i\n",
        "print(b)"
      ],
      "metadata": {
        "colab": {
          "base_uri": "https://localhost:8080/"
        },
        "id": "uBNvnZW0nsSx",
        "outputId": "692bfbbe-e518-41b0-8244-9c7b94f59bde"
      },
      "execution_count": null,
      "outputs": [
        {
          "output_type": "stream",
          "name": "stdout",
          "text": [
            "5\n",
            "120\n"
          ]
        }
      ]
    },
    {
      "cell_type": "code",
      "source": [
        "var = 'iAm Sumanth'\n",
        "for i in var :\n",
        "  if i.isupper():\n",
        "    print(i.lower(),end='')\n",
        "  else:\n",
        "    print(i.upper(),end='')"
      ],
      "metadata": {
        "colab": {
          "base_uri": "https://localhost:8080/"
        },
        "id": "SlVXa5_cosEN",
        "outputId": "a7387f2e-efab-41c6-8fb9-13cea2e95f9d"
      },
      "execution_count": null,
      "outputs": [
        {
          "output_type": "stream",
          "name": "stdout",
          "text": [
            "IaM sUMANTH"
          ]
        }
      ]
    },
    {
      "cell_type": "code",
      "source": [],
      "metadata": {
        "id": "iordxHkEvQzE"
      },
      "execution_count": null,
      "outputs": []
    },
    {
      "cell_type": "markdown",
      "source": [
        "rock paper sissor\n"
      ],
      "metadata": {
        "id": "oFEEPf0VpP_F"
      }
    },
    {
      "cell_type": "code",
      "source": [
        "series = int(input('enter the series'))\n",
        "player1_wins = 0\n",
        "player2_wins = 0\n",
        "for i in range(series):\n",
        "  player1 = input('enter the choice').upper()\n",
        "  player2 = input('enter the choice').upper()\n",
        "  if player1 == player2:\n",
        "    print('draw the match')\n",
        "  elif (player1 == 'R' and player2 == 'S') or (player1 == 'S' and player2 == 'P') or (player1 == 'P' and player2 == 'R') :\n",
        "    print('player1 wins')\n",
        "    player1_wins += 1\n",
        "  else:\n",
        "    player2_wins += 1\n",
        "    print('player2 wins!')\n",
        "if player1_wins > player2_wins:\n",
        "  print('player1 crash.......!')\n",
        "elif player2_wins > player1_wins:\n",
        "  print('player2 crash.......!')\n",
        "else:\n",
        "  print('match draw')\n",
        "print(player1_wins)\n",
        "print(player2_wins)\n"
      ],
      "metadata": {
        "colab": {
          "base_uri": "https://localhost:8080/"
        },
        "id": "Arp1qaewpSt6",
        "outputId": "8926824f-bcd5-44ff-d6c1-09d81f644830"
      },
      "execution_count": 5,
      "outputs": [
        {
          "output_type": "stream",
          "name": "stdout",
          "text": [
            "enter the series2\n",
            "enter the choicer\n",
            "enter the choicep\n",
            "player2 wins!\n",
            "enter the choices\n",
            "enter the choicep\n",
            "player1 wins\n",
            "match draw\n",
            "1\n",
            "1\n"
          ]
        }
      ]
    },
    {
      "cell_type": "code",
      "source": [],
      "metadata": {
        "id": "r-keUBxwr8Zl"
      },
      "execution_count": null,
      "outputs": []
    }
  ]
}